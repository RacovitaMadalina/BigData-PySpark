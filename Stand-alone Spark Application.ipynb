{
 "cells": [
  {
   "cell_type": "markdown",
   "metadata": {},
   "source": [
    "## 7th Laboratory - 6th exercise"
   ]
  },
  {
   "cell_type": "markdown",
   "metadata": {},
   "source": [
    "Solve the **task at 1.** by writing and executing a **stand-alone Spark application in python**"
   ]
  },
  {
   "cell_type": "code",
   "execution_count": 1,
   "metadata": {
    "scrolled": true
   },
   "outputs": [
    {
     "data": {
      "text/plain": [
       "''"
      ]
     },
     "execution_count": 1,
     "metadata": {},
     "output_type": "execute_result"
    }
   ],
   "source": [
    "sc"
   ]
  },
  {
   "cell_type": "code",
   "execution_count": 2,
   "metadata": {},
   "outputs": [
    {
     "name": "stdout",
     "output_type": "stream",
     "text": [
      "\r\n"
     ]
    }
   ],
   "source": [
    "!echo $SPARK_HOME"
   ]
  },
  {
   "cell_type": "markdown",
   "metadata": {},
   "source": [
    "### Environment configuration"
   ]
  },
  {
   "cell_type": "code",
   "execution_count": 3,
   "metadata": {},
   "outputs": [
    {
     "name": "stdout",
     "output_type": "stream",
     "text": [
      "Requirement already satisfied: findspark in /Users/madalina-alinaracovita/opt/anaconda3/lib/python3.8/site-packages (1.4.2)\r\n"
     ]
    }
   ],
   "source": [
    "!pip install findspark"
   ]
  },
  {
   "cell_type": "code",
   "execution_count": 4,
   "metadata": {},
   "outputs": [],
   "source": [
    "import findspark\n",
    "findspark.init('/usr/local/Cellar/apache-spark/3.0.1/libexec')\n",
    "\n",
    "from pyspark import SparkContext, SparkConf\n",
    "\n",
    "conf = SparkConf().setMaster(\"local\").setAppName(\"My App\")\n",
    "sc = SparkContext(conf = conf)"
   ]
  },
  {
   "cell_type": "code",
   "execution_count": 5,
   "metadata": {
    "scrolled": false
   },
   "outputs": [
    {
     "name": "stdout",
     "output_type": "stream",
     "text": [
      "/usr/local/Cellar/apache-spark/3.0.1/libexec\r\n"
     ]
    }
   ],
   "source": [
    "!echo $SPARK_HOME"
   ]
  },
  {
   "cell_type": "markdown",
   "metadata": {},
   "source": [
    "### 1st task solution"
   ]
  },
  {
   "cell_type": "code",
   "execution_count": 6,
   "metadata": {},
   "outputs": [],
   "source": [
    "import re"
   ]
  },
  {
   "cell_type": "code",
   "execution_count": 7,
   "metadata": {},
   "outputs": [],
   "source": [
    "counts = sc.textFile('./data/shakespeare/*')\\\n",
    "             .flatMap(lambda line: re.split('\\W+', line))\\\n",
    "             .map(lambda word: (word, 1)) \\\n",
    "             .filter(lambda x: x[0] != \"\")\\\n",
    "             .reduceByKey(lambda a, b: a + b) \\\n",
    "\n",
    "counts.coalesce(1)\\\n",
    "      .sortBy(lambda a: a[0])\\\n",
    "      .saveAsTextFile(\"./lab7/counts_stand_alone_app\")"
   ]
  },
  {
   "cell_type": "code",
   "execution_count": 8,
   "metadata": {},
   "outputs": [
    {
     "name": "stdout",
     "output_type": "stream",
     "text": [
      "('1', 49)\n",
      "('10', 1)\n",
      "('11th', 1)\n",
      "('12th', 1)\n",
      "('1s', 1)\n",
      "('2', 48)\n",
      "('2d', 1)\n",
      "('2s', 3)\n",
      "('3', 29)\n",
      "('4', 1)\n",
      "('4d', 1)\n",
      "('5', 1)\n",
      "('5s', 1)\n",
      "('6', 1)\n",
      "('6d', 2)\n",
      "('6s', 1)\n",
      "('7', 1)\n",
      "('8', 1)\n",
      "('8d', 2)\n",
      "('9', 1)\n",
      "('A', 2027)\n",
      "('AARON', 72)\n",
      "('ABATE', 1)\n",
      "('ABATEMENT', 1)\n",
      "('ABERGAVENNY', 9)\n",
      "('ABHOR', 1)\n",
      "('ABHORSON', 18)\n",
      "('ABIDE', 1)\n",
      "('ABLE', 1)\n",
      "('ABOUT', 18)\n",
      "('ABRAHAM', 7)\n",
      "('ABRIDGEMENT', 1)\n",
      "('ABROAD', 1)\n",
      "\n"
     ]
    }
   ],
   "source": [
    "f = open(\"./lab7/counts_stand_alone_app/part-00000\", \"r\")\n",
    "file_content = f.read()\n",
    "f.close()\n",
    "\n",
    "print(file_content[:390])"
   ]
  },
  {
   "cell_type": "markdown",
   "metadata": {},
   "source": [
    "## 7th Laboratory - 7th exercise"
   ]
  },
  {
   "cell_type": "markdown",
   "metadata": {},
   "source": [
    "Write a standalone spark application to **implement k-Means**. The application will take two\n",
    "arguments: the input data file and the output directory where only the centroids will be printed.\n",
    "Because every iteration is working with the data set, persist it. "
   ]
  },
  {
   "cell_type": "markdown",
   "metadata": {},
   "source": [
    "### Using pyspark.ml and a default dataset"
   ]
  },
  {
   "cell_type": "code",
   "execution_count": 9,
   "metadata": {},
   "outputs": [
    {
     "name": "stdout",
     "output_type": "stream",
     "text": [
      "Silhouette with squared euclidean distance = 0.9997530305375207\n",
      "Cluster Centers: \n",
      "[9.1 9.1 9.1]\n",
      "[0.1 0.1 0.1]\n"
     ]
    }
   ],
   "source": [
    "from pyspark.ml.clustering import KMeans\n",
    "from pyspark.ml.evaluation import ClusteringEvaluator\n",
    "from pyspark.sql.session import SparkSession\n",
    "\n",
    "# Loads data.\n",
    "spark = SparkSession(sc)\n",
    "dataset = spark.read.format(\"libsvm\").load(\"/usr/local/Cellar/apache-spark/3.0.1/libexec/data/mllib/sample_kmeans_data.txt\")\n",
    "\n",
    "# Trains a k-means model.\n",
    "kmeans = KMeans().setK(2).setSeed(1)\n",
    "model = kmeans.fit(dataset)\n",
    "\n",
    "# Make predictions\n",
    "predictions = model.transform(dataset)\n",
    "\n",
    "# Evaluate clustering by computing Silhouette score\n",
    "evaluator = ClusteringEvaluator()\n",
    "\n",
    "silhouette = evaluator.evaluate(predictions)\n",
    "print(\"Silhouette with squared euclidean distance = \" + str(silhouette))\n",
    "\n",
    "# Shows the result.\n",
    "centers = model.clusterCenters()\n",
    "print(\"Cluster Centers: \")\n",
    "for center in centers:\n",
    "    print(center)"
   ]
  },
  {
   "cell_type": "code",
   "execution_count": 10,
   "metadata": {},
   "outputs": [
    {
     "data": {
      "text/plain": [
       "[Row(label=0.0, features=SparseVector(3, {})),\n",
       " Row(label=1.0, features=SparseVector(3, {0: 0.1, 1: 0.1, 2: 0.1})),\n",
       " Row(label=2.0, features=SparseVector(3, {0: 0.2, 1: 0.2, 2: 0.2})),\n",
       " Row(label=3.0, features=SparseVector(3, {0: 9.0, 1: 9.0, 2: 9.0})),\n",
       " Row(label=4.0, features=SparseVector(3, {0: 9.1, 1: 9.1, 2: 9.1})),\n",
       " Row(label=5.0, features=SparseVector(3, {0: 9.2, 1: 9.2, 2: 9.2}))]"
      ]
     },
     "execution_count": 10,
     "metadata": {},
     "output_type": "execute_result"
    }
   ],
   "source": [
    "dataset.take(100)"
   ]
  },
  {
   "cell_type": "markdown",
   "metadata": {},
   "source": [
    "## Implementing K-means from scratch"
   ]
  },
  {
   "cell_type": "code",
   "execution_count": 11,
   "metadata": {},
   "outputs": [],
   "source": [
    "import pandas as pd\n",
    "import random\n",
    "import matplotlib.pyplot as plt\n",
    "import math"
   ]
  },
  {
   "cell_type": "markdown",
   "metadata": {},
   "source": [
    "### Data generation"
   ]
  },
  {
   "cell_type": "markdown",
   "metadata": {},
   "source": [
    "I will generate a 2-dimensional dataset, clustered in 3 clusters."
   ]
  },
  {
   "cell_type": "code",
   "execution_count": 12,
   "metadata": {},
   "outputs": [],
   "source": [
    "first_cluster = list(set([(random.randint(-10, -2), random.randint(-10, -2)) for i in range(20)]))\n",
    "second_cluster = list(set([(random.randint(10, 20), random.randint(10, 20)) for i in range(20)]))\n",
    "third_cluster = list(set([(random.randint(30, 40), random.randint(30, 40)) for i in range(20)]))"
   ]
  },
  {
   "cell_type": "code",
   "execution_count": 13,
   "metadata": {
    "scrolled": true
   },
   "outputs": [
    {
     "data": {
      "text/plain": [
       "57"
      ]
     },
     "execution_count": 13,
     "metadata": {},
     "output_type": "execute_result"
    }
   ],
   "source": [
    "all_data = first_cluster + second_cluster + third_cluster\n",
    "len(all_data)"
   ]
  },
  {
   "cell_type": "code",
   "execution_count": 14,
   "metadata": {},
   "outputs": [
    {
     "data": {
      "text/html": [
       "<div>\n",
       "<style scoped>\n",
       "    .dataframe tbody tr th:only-of-type {\n",
       "        vertical-align: middle;\n",
       "    }\n",
       "\n",
       "    .dataframe tbody tr th {\n",
       "        vertical-align: top;\n",
       "    }\n",
       "\n",
       "    .dataframe thead th {\n",
       "        text-align: right;\n",
       "    }\n",
       "</style>\n",
       "<table border=\"1\" class=\"dataframe\">\n",
       "  <thead>\n",
       "    <tr style=\"text-align: right;\">\n",
       "      <th></th>\n",
       "      <th>x</th>\n",
       "      <th>y</th>\n",
       "    </tr>\n",
       "  </thead>\n",
       "  <tbody>\n",
       "    <tr>\n",
       "      <th>0</th>\n",
       "      <td>-9</td>\n",
       "      <td>-8</td>\n",
       "    </tr>\n",
       "    <tr>\n",
       "      <th>1</th>\n",
       "      <td>-3</td>\n",
       "      <td>-2</td>\n",
       "    </tr>\n",
       "    <tr>\n",
       "      <th>2</th>\n",
       "      <td>-5</td>\n",
       "      <td>-9</td>\n",
       "    </tr>\n",
       "    <tr>\n",
       "      <th>3</th>\n",
       "      <td>-2</td>\n",
       "      <td>-2</td>\n",
       "    </tr>\n",
       "    <tr>\n",
       "      <th>4</th>\n",
       "      <td>-4</td>\n",
       "      <td>-6</td>\n",
       "    </tr>\n",
       "  </tbody>\n",
       "</table>\n",
       "</div>"
      ],
      "text/plain": [
       "   x  y\n",
       "0 -9 -8\n",
       "1 -3 -2\n",
       "2 -5 -9\n",
       "3 -2 -2\n",
       "4 -4 -6"
      ]
     },
     "execution_count": 14,
     "metadata": {},
     "output_type": "execute_result"
    }
   ],
   "source": [
    "df = pd.DataFrame({\n",
    "    \"x\": [coord[0] for coord in all_data],\n",
    "    \"y\": [coord[1] for coord in all_data]\n",
    "})\n",
    "df.head()"
   ]
  },
  {
   "cell_type": "code",
   "execution_count": 15,
   "metadata": {},
   "outputs": [],
   "source": [
    "df.to_csv('./k-means_data/data20.csv', index=None, header=False)"
   ]
  },
  {
   "cell_type": "markdown",
   "metadata": {},
   "source": [
    "### Data visualization to check if the data is clustered"
   ]
  },
  {
   "cell_type": "code",
   "execution_count": 16,
   "metadata": {},
   "outputs": [],
   "source": [
    "df5 = pd.read_csv('./k-means_data/data5.csv', header=None)\n",
    "df20 = pd.read_csv('./k-means_data/data20.csv', header=None)"
   ]
  },
  {
   "cell_type": "code",
   "execution_count": 17,
   "metadata": {},
   "outputs": [
    {
     "data": {
      "text/html": [
       "<div>\n",
       "<style scoped>\n",
       "    .dataframe tbody tr th:only-of-type {\n",
       "        vertical-align: middle;\n",
       "    }\n",
       "\n",
       "    .dataframe tbody tr th {\n",
       "        vertical-align: top;\n",
       "    }\n",
       "\n",
       "    .dataframe thead th {\n",
       "        text-align: right;\n",
       "    }\n",
       "</style>\n",
       "<table border=\"1\" class=\"dataframe\">\n",
       "  <thead>\n",
       "    <tr style=\"text-align: right;\">\n",
       "      <th></th>\n",
       "      <th>0</th>\n",
       "      <th>1</th>\n",
       "    </tr>\n",
       "  </thead>\n",
       "  <tbody>\n",
       "    <tr>\n",
       "      <th>0</th>\n",
       "      <td>-9</td>\n",
       "      <td>-8</td>\n",
       "    </tr>\n",
       "    <tr>\n",
       "      <th>1</th>\n",
       "      <td>-3</td>\n",
       "      <td>-2</td>\n",
       "    </tr>\n",
       "    <tr>\n",
       "      <th>2</th>\n",
       "      <td>-5</td>\n",
       "      <td>-9</td>\n",
       "    </tr>\n",
       "    <tr>\n",
       "      <th>3</th>\n",
       "      <td>-2</td>\n",
       "      <td>-2</td>\n",
       "    </tr>\n",
       "    <tr>\n",
       "      <th>4</th>\n",
       "      <td>-4</td>\n",
       "      <td>-6</td>\n",
       "    </tr>\n",
       "  </tbody>\n",
       "</table>\n",
       "</div>"
      ],
      "text/plain": [
       "   0  1\n",
       "0 -9 -8\n",
       "1 -3 -2\n",
       "2 -5 -9\n",
       "3 -2 -2\n",
       "4 -4 -6"
      ]
     },
     "execution_count": 17,
     "metadata": {},
     "output_type": "execute_result"
    }
   ],
   "source": [
    "df20.head()"
   ]
  },
  {
   "cell_type": "code",
   "execution_count": 18,
   "metadata": {
    "scrolled": true
   },
   "outputs": [
    {
     "data": {
      "text/plain": [
       "<matplotlib.collections.PathCollection at 0x7fe61cf25fd0>"
      ]
     },
     "execution_count": 18,
     "metadata": {},
     "output_type": "execute_result"
    },
    {
     "data": {
      "image/png": "[encoded data removed]",
      "text/plain": [
       "<Figure size 432x288 with 1 Axes>"
      ]
     },
     "metadata": {
      "needs_background": "light"
     },
     "output_type": "display_data"
    }
   ],
   "source": [
    "plt.scatter(df5[0], df5[1])"
   ]
  },
  {
   "cell_type": "code",
   "execution_count": 19,
   "metadata": {},
   "outputs": [
    {
     "data": {
      "text/plain": [
       "<matplotlib.collections.PathCollection at 0x7fe61cfbe040>"
      ]
     },
     "execution_count": 19,
     "metadata": {},
     "output_type": "execute_result"
    },
    {
     "data": {
      "image/png": "[encoded data removed]",
      "text/plain": [
       "<Figure size 432x288 with 1 Axes>"
      ]
     },
     "metadata": {
      "needs_background": "light"
     },
     "output_type": "display_data"
    }
   ],
   "source": [
    "plt.scatter(df20[0], df20[1])"
   ]
  },
  {
   "cell_type": "markdown",
   "metadata": {},
   "source": [
    "### K-means implementation"
   ]
  },
  {
   "cell_type": "code",
   "execution_count": 20,
   "metadata": {},
   "outputs": [
    {
     "data": {
      "text/plain": [
       "1.4142135623730951"
      ]
     },
     "execution_count": 20,
     "metadata": {},
     "output_type": "execute_result"
    }
   ],
   "source": [
    "def compute_euclidian_distance(first, second):\n",
    "    return math.sqrt((first[0] - second[0])**2 + (first[1] - second[1])**2)\n",
    "\n",
    "compute_euclidian_distance((1, 2), (2, 3))"
   ]
  },
  {
   "cell_type": "code",
   "execution_count": 21,
   "metadata": {},
   "outputs": [
    {
     "data": {
      "text/plain": [
       "[10, 8, 0]"
      ]
     },
     "execution_count": 21,
     "metadata": {},
     "output_type": "execute_result"
    }
   ],
   "source": [
    "K = 3\n",
    "\n",
    "def establish_initial_centroids_index(centroids_number, index_column):\n",
    "    centroid_indexes = []\n",
    "    while len(centroid_indexes) < 3:\n",
    "        current = random.choice(list(index_column))\n",
    "        while current in centroid_indexes:\n",
    "            current = random.choice(list(index_column))\n",
    "        centroid_indexes.append(current)\n",
    "    return centroid_indexes\n",
    "\n",
    "\n",
    "establish_initial_centroids_index(3, df5.index)"
   ]
  },
  {
   "cell_type": "code",
   "execution_count": 22,
   "metadata": {},
   "outputs": [],
   "source": [
    "def get_cluster_index_given_point_and_centroids(p, centroids):\n",
    "    closest_centroid = 0\n",
    "    smallest_distance = None\n",
    "    for i in range(len(centroids)):\n",
    "        current_distance = compute_euclidian_distance(p, centroids[i])\n",
    "        if smallest_distance == None:\n",
    "            closest_centroid = i\n",
    "            smallest_distance = current_distance\n",
    "        if current_distance < smallest_distance:\n",
    "            closest_centroid = i\n",
    "            smallest_distance = current_distance\n",
    "    return closest_centroid"
   ]
  },
  {
   "cell_type": "code",
   "execution_count": 23,
   "metadata": {},
   "outputs": [],
   "source": [
    "def compute_coordinates_new_centroid(points_list):\n",
    "    x = []\n",
    "    y = []\n",
    "    for point in points_list:\n",
    "        x.append(point[0])\n",
    "        y.append(point[1])\n",
    "    return (sum(x) / len(x), sum(y) / len(y))"
   ]
  },
  {
   "cell_type": "code",
   "execution_count": 24,
   "metadata": {},
   "outputs": [
    {
     "name": "stdout",
     "output_type": "stream",
     "text": [
      "[(-5, -10), (-10, -4)]\n"
     ]
    }
   ],
   "source": [
    "rdd5 =  sc.textFile('./k-means_data/data5.csv')\\\n",
    "        .map(lambda x: str(x)) \\\n",
    "        .map(lambda w: w.split(',')) \\\n",
    "        .map(lambda point: (eval(point[0]), eval(point[1])))\n",
    "\n",
    "print(rdd5.take(2))"
   ]
  },
  {
   "cell_type": "code",
   "execution_count": 25,
   "metadata": {},
   "outputs": [
    {
     "data": {
      "text/plain": [
       "14"
      ]
     },
     "execution_count": 25,
     "metadata": {},
     "output_type": "execute_result"
    }
   ],
   "source": [
    "rdd5.count()"
   ]
  },
  {
   "cell_type": "code",
   "execution_count": 26,
   "metadata": {},
   "outputs": [
    {
     "data": {
      "text/plain": [
       "[5, 10, 4]"
      ]
     },
     "execution_count": 26,
     "metadata": {},
     "output_type": "execute_result"
    }
   ],
   "source": [
    "initial_centroids_indexes = establish_initial_centroids_index(3, range(rdd5.count()))\n",
    "initial_centroids_indexes"
   ]
  },
  {
   "cell_type": "code",
   "execution_count": 27,
   "metadata": {},
   "outputs": [
    {
     "data": {
      "text/plain": [
       "[((-5, -10), 0), ((-10, -4), 1)]"
      ]
     },
     "execution_count": 27,
     "metadata": {},
     "output_type": "execute_result"
    }
   ],
   "source": [
    "rdd5.zipWithIndex().take(2)"
   ]
  },
  {
   "cell_type": "code",
   "execution_count": 29,
   "metadata": {},
   "outputs": [
    {
     "data": {
      "text/plain": [
       "[(16, 20), (18, 16), (33, 39)]"
      ]
     },
     "execution_count": 29,
     "metadata": {},
     "output_type": "execute_result"
    }
   ],
   "source": [
    "initial_centroids_coordinates = rdd5.zipWithIndex()\\\n",
    "                                    .filter(lambda point_index: point_index[1] in initial_centroids_indexes)\\\n",
    "                                    .map(lambda point_index: point_index[0])\\\n",
    "                                    .collect()\n",
    "initial_centroids_coordinates"
   ]
  },
  {
   "cell_type": "code",
   "execution_count": 30,
   "metadata": {},
   "outputs": [
    {
     "data": {
      "text/plain": [
       "1"
      ]
     },
     "execution_count": 30,
     "metadata": {},
     "output_type": "execute_result"
    }
   ],
   "source": [
    "get_cluster_index_given_point_and_centroids((16, 12), initial_centroids_coordinates)"
   ]
  },
  {
   "cell_type": "code",
   "execution_count": 31,
   "metadata": {},
   "outputs": [
    {
     "data": {
      "text/plain": [
       "[(1, (-5, -10)),\n",
       " (1, (-10, -4)),\n",
       " (1, (-7, -9)),\n",
       " (1, (-6, -9)),\n",
       " (0, (16, 20)),\n",
       " (1, (18, 16)),\n",
       " (1, (12, 13)),\n",
       " (1, (16, 12)),\n",
       " (1, (14, 11)),\n",
       " (2, (32, 34)),\n",
       " (2, (33, 39)),\n",
       " (2, (38, 35)),\n",
       " (2, (31, 36)),\n",
       " (2, (33, 40))]"
      ]
     },
     "execution_count": 31,
     "metadata": {},
     "output_type": "execute_result"
    }
   ],
   "source": [
    "centroids_coords = initial_centroids_coordinates\n",
    "\n",
    "rdd5.map(lambda point: (get_cluster_index_given_point_and_centroids(point, initial_centroids_coordinates), point))\\\n",
    "    .collect()"
   ]
  },
  {
   "cell_type": "code",
   "execution_count": 32,
   "metadata": {},
   "outputs": [
    {
     "data": {
      "text/plain": [
       "[(1, (4.0, 2.5)), (0, (16.0, 20.0)), (2, (33.4, 36.8))]"
      ]
     },
     "execution_count": 32,
     "metadata": {},
     "output_type": "execute_result"
    }
   ],
   "source": [
    "rdd5.map(lambda point: (get_cluster_index_given_point_and_centroids(point, initial_centroids_coordinates), point))\\\n",
    "    .groupByKey()\\\n",
    "    .map(lambda cluster_points_list: (cluster_points_list[0], \n",
    "                                      compute_coordinates_new_centroid(cluster_points_list[1])))\\\n",
    "    .collect()"
   ]
  },
  {
   "cell_type": "code",
   "execution_count": 33,
   "metadata": {},
   "outputs": [
    {
     "data": {
      "text/plain": [
       "[(4.0, 2.5), (16.0, 20.0), (33.4, 36.8)]"
      ]
     },
     "execution_count": 33,
     "metadata": {},
     "output_type": "execute_result"
    }
   ],
   "source": [
    "new_centroids_coordinates = rdd5.map(lambda point: \\\n",
    "                         (get_cluster_index_given_point_and_centroids(point, initial_centroids_coordinates), point))\\\n",
    "    .groupByKey()\\\n",
    "    .map(lambda cluster_points_list: (cluster_points_list[0], \n",
    "                                      compute_coordinates_new_centroid(cluster_points_list[1])))\\\n",
    "    .map(lambda cluster_centroid_coordinates: cluster_centroid_coordinates[1])\\\n",
    "    .collect()\n",
    "\n",
    "new_centroids_coordinates"
   ]
  },
  {
   "cell_type": "code",
   "execution_count": 34,
   "metadata": {
    "scrolled": false
   },
   "outputs": [],
   "source": [
    "def get_new_centroid_coordinates(rdd):\n",
    "    return rdd.groupByKey()\\\n",
    "              .map(lambda cluster_points_list: (cluster_points_list[0], \n",
    "                                      compute_coordinates_new_centroid(cluster_points_list[1])))\\\n",
    "              .map(lambda cluster_centroid_coordinates: cluster_centroid_coordinates[1])\\\n",
    "              .collect()\n",
    "\n",
    "def compute_variance_for_given_cluster(cluster_point, list_of_points):\n",
    "    return sum([compute_euclidian_distance(cluster_point, point) for point in list_of_points])\n",
    "\n",
    "\n",
    "def get_variance_within_each_cluster(rdd, current_configuration):\n",
    "    return rdd.groupByKey()\\\n",
    "              .map(lambda cluster_index_points_list: (cluster_index_points_list[0],\n",
    "                          compute_variance_for_given_cluster(current_configuration[cluster_index_points_list[0]],\n",
    "                                                            cluster_index_points_list[1])))\\\n",
    "              .collect()\n",
    "\n",
    "\n",
    "def K_means(rdd, k, initial_centroids_indexes, verbose=False):\n",
    "\n",
    "    # get the coordinates for the initial centroids\n",
    "    initial_centroids_coordinates = rdd.zipWithIndex()\\\n",
    "                                        .filter(lambda point_index: point_index[1] in initial_centroids_indexes)\\\n",
    "                                        .map(lambda point_index: point_index[0])\\\n",
    "                                        .collect()\n",
    "\n",
    "    # modify the rdd so that each point is assigned to the closest centroid from the initial chosen ones\n",
    "    rdd = rdd.map(lambda point: (get_cluster_index_given_point_and_centroids(point, current_configuration), point))\n",
    "\n",
    "\n",
    "    # iterate until we encounter the same K-configuration, and implicitly the same K-partition as the one from the \n",
    "    # previous step\n",
    "\n",
    "    current_configuration = initial_centroids_coordinates\n",
    "    prev_configuration = None\n",
    "\n",
    "    while current_configuration != prev_configuration:\n",
    "        prev_configuration = current_configuration\n",
    "\n",
    "        rdd = rdd.map(lambda cluster_point: \\\n",
    "                        (get_cluster_index_given_point_and_centroids(cluster_point[1], prev_configuration), \n",
    "                         cluster_point[1]))\n",
    "\n",
    "        current_configuration = get_new_centroid_coordinates(rdd)\n",
    "\n",
    "        if verbose:\n",
    "            print('Previous configuration', prev_configuration)\n",
    "            print('Next configuration', current_configuration)\n",
    "            print(rdd.collect())\n",
    "            print('\\n\\n')\n",
    "\n",
    "    variance_within_clusters = get_variance_within_each_cluster(rdd, current_configuration)\n",
    "    variance_summed = sum([cluster_variance[1] for cluster_variance in variance_within_clusters])\n",
    "    \n",
    "    if verbose:\n",
    "        # convert the rdd to a pandas dataframe and visualize the results in a scatter plot\n",
    "        pd_df = rdd.map(lambda cluster_point: [cluster_point[1][0], cluster_point[1][1], cluster_point[0]])\\\n",
    "                .toDF([\"x\", \"y\", \"cluster_index\"]).toPandas()\n",
    "        \n",
    "        print(pd_df.head())\n",
    "        print('\\n\\n')\n",
    "\n",
    "        plt.scatter(pd_df['x'], pd_df['y'], c=pd_df['cluster_index'])\n",
    "        plt.show()\n",
    "        \n",
    "    return variance_summed"
   ]
  },
  {
   "cell_type": "code",
   "execution_count": 35,
   "metadata": {
    "scrolled": false
   },
   "outputs": [],
   "source": [
    "import tqdm\n",
    "\n",
    "K=3\n",
    "filename = './k-means_data/data5.csv'\n",
    "stopping_variance = 1.0\n",
    "stopping_iterations = 10\n",
    "\n",
    "\n",
    "def run_optimized_k_means(filename, k, stopping_iterations):\n",
    "    # read data and cast from string to numbers\n",
    "    rdd =  sc.textFile(filename)\\\n",
    "            .map(lambda x: str(x)) \\\n",
    "            .map(lambda w: w.split(',')) \\\n",
    "            .map(lambda point: (eval(point[0]), eval(point[1])))\n",
    "\n",
    "    iteration = 0\n",
    "    best_initial_clusters_indexes = None\n",
    "    min_variance = None\n",
    "\n",
    "    while iteration < stopping_iterations or current_variance == stopping_variance:\n",
    "\n",
    "        # establish randomly the indexes for the first K centroids\n",
    "        initial_centroids_indexes = establish_initial_centroids_index(K, range(rdd.count()))\n",
    "        current_variance = K_means(rdd, K, initial_centroids_indexes)\n",
    "\n",
    "        if min_variance == None:\n",
    "            best_initial_clusters_indexes = initial_centroids_indexes\n",
    "            min_variance = current_variance\n",
    "        elif min_variance > current_variance:\n",
    "            print(\"Improved variance at iteration = \" + str(iteration) + ' with the initial cluster indexes ' +\n",
    "                  str(initial_centroids_indexes))\n",
    "            best_initial_clusters_indexes = initial_centroids_indexes\n",
    "            min_variance = current_variance\n",
    "\n",
    "        iteration += 1\n",
    "    \n",
    "    return best_initial_clusters_indexes\n",
    "\n",
    "\n",
    "def run_unoptimized_kmeans(filename, k, verbose=False):\n",
    "    # read data and cast from string to numbers\n",
    "    rdd =  sc.textFile(filename)\\\n",
    "            .map(lambda x: str(x)) \\\n",
    "            .map(lambda w: w.split(',')) \\\n",
    "            .map(lambda point: (eval(point[0]), eval(point[1])))\n",
    "    \n",
    "    # establish randomly the indexes for the first K centroids\n",
    "    initial_centroids_indexes = establish_initial_centroids_index(K, range(rdd.count()))\n",
    "    K_means(rdd, K, best_initial_clusters_indexes, verbose)"
   ]
  },
  {
   "cell_type": "code",
   "execution_count": 36,
   "metadata": {},
   "outputs": [
    {
     "name": "stdout",
     "output_type": "stream",
     "text": [
      "Improved variance at iteration = 1 with the initial cluster indexes [1, 11, 7]\n",
      "Previous configuration [(-10, -4), (16, 12), (38, 35)]\n",
      "Next configuration [(-7.0, -8.0), (15.2, 14.4), (33.4, 36.8)]\n",
      "[(0, (-5, -10)), (0, (-10, -4)), (0, (-7, -9)), (0, (-6, -9)), (1, (16, 20)), (1, (18, 16)), (1, (12, 13)), (1, (16, 12)), (1, (14, 11)), (2, (32, 34)), (2, (33, 39)), (2, (38, 35)), (2, (31, 36)), (2, (33, 40))]\n",
      "\n",
      "\n",
      "\n",
      "Previous configuration [(-7.0, -8.0), (15.2, 14.4), (33.4, 36.8)]\n",
      "Next configuration [(-7.0, -8.0), (15.2, 14.4), (33.4, 36.8)]\n",
      "[(0, (-5, -10)), (0, (-10, -4)), (0, (-7, -9)), (0, (-6, -9)), (1, (16, 20)), (1, (18, 16)), (1, (12, 13)), (1, (16, 12)), (1, (14, 11)), (2, (32, 34)), (2, (33, 39)), (2, (38, 35)), (2, (31, 36)), (2, (33, 40))]\n",
      "\n",
      "\n",
      "\n",
      "    x   y  cluster_index\n",
      "0  -5 -10              0\n",
      "1 -10  -4              0\n",
      "2  -7  -9              0\n",
      "3  -6  -9              0\n",
      "4  16  20              1\n",
      "\n",
      "\n",
      "\n"
     ]
    },
    {
     "data": {
      "image/png": "[encoded data removed]",
      "text/plain": [
       "<Figure size 432x288 with 1 Axes>"
      ]
     },
     "metadata": {
      "needs_background": "light"
     },
     "output_type": "display_data"
    },
    {
     "data": {
      "text/plain": [
       "44.81354526638938"
      ]
     },
     "execution_count": 36,
     "metadata": {},
     "output_type": "execute_result"
    }
   ],
   "source": [
    "best_initial_clusters_indexes = run_optimized_k_means('./k-means_data/data5.csv', K, stopping_iterations)\n",
    "\n",
    "rdd = sc.textFile('./k-means_data/data5.csv')\\\n",
    "            .map(lambda x: str(x)) \\\n",
    "            .map(lambda w: w.split(',')) \\\n",
    "            .map(lambda point: (eval(point[0]), eval(point[1])))\n",
    "K_means(rdd, K, best_initial_clusters_indexes, verbose=True)"
   ]
  },
  {
   "cell_type": "code",
   "execution_count": 37,
   "metadata": {
    "scrolled": false
   },
   "outputs": [
    {
     "name": "stdout",
     "output_type": "stream",
     "text": [
      "Previous configuration [(-3, -2), (-8, -5), (-4, -4)]\n",
      "Next configuration [(-7.777777777777778, -7.555555555555555), (24.365853658536587, 24.21951219512195), (-3.5714285714285716, -6.142857142857143)]\n",
      "[(1, (-9, -8)), (0, (-3, -2)), (1, (-5, -9)), (0, (-2, -2)), (2, (-4, -6)), (2, (-2, -6)), (2, (-3, -10)), (1, (-8, -5)), (1, (-9, -7)), (1, (-6, -6)), (1, (-8, -8)), (2, (-4, -4)), (2, (-5, -8)), (2, (-3, -4)), (1, (-8, -9)), (2, (-4, -5)), (1, (-10, -8)), (1, (-7, -8)), (0, (12, 10)), (0, (14, 19)), (0, (19, 12)), (0, (19, 18)), (0, (13, 11)), (0, (20, 13)), (0, (20, 10)), (0, (12, 12)), (0, (11, 10)), (0, (11, 16)), (0, (13, 10)), (0, (15, 16)), (0, (15, 19)), (0, (20, 18)), (0, (14, 11)), (0, (19, 16)), (0, (11, 12)), (0, (15, 12)), (0, (15, 18)), (0, (33, 39)), (0, (35, 39)), (0, (38, 38)), (0, (40, 35)), (0, (37, 33)), (0, (36, 34)), (0, (30, 36)), (0, (32, 39)), (0, (35, 38)), (0, (38, 40)), (0, (40, 40)), (0, (36, 30)), (0, (37, 38)), (0, (34, 39)), (0, (32, 38)), (0, (39, 31)), (0, (39, 40)), (0, (34, 35)), (0, (34, 32)), (0, (37, 40))]\n",
      "\n",
      "\n",
      "\n",
      "Previous configuration [(-7.777777777777778, -7.555555555555555), (24.365853658536587, 24.21951219512195), (-3.5714285714285716, -6.142857142857143)]\n",
      "Next configuration [(-7.777777777777778, -7.555555555555555), (-3.3333333333333335, -5.222222222222222), (25.743589743589745, 25.564102564102566)]\n",
      "[(0, (-9, -8)), (2, (-3, -2)), (0, (-5, -9)), (2, (-2, -2)), (2, (-4, -6)), (2, (-2, -6)), (2, (-3, -10)), (0, (-8, -5)), (0, (-9, -7)), (0, (-6, -6)), (0, (-8, -8)), (2, (-4, -4)), (2, (-5, -8)), (2, (-3, -4)), (0, (-8, -9)), (2, (-4, -5)), (0, (-10, -8)), (0, (-7, -8)), (1, (12, 10)), (1, (14, 19)), (1, (19, 12)), (1, (19, 18)), (1, (13, 11)), (1, (20, 13)), (1, (20, 10)), (1, (12, 12)), (1, (11, 10)), (1, (11, 16)), (1, (13, 10)), (1, (15, 16)), (1, (15, 19)), (1, (20, 18)), (1, (14, 11)), (1, (19, 16)), (1, (11, 12)), (1, (15, 12)), (1, (15, 18)), (1, (33, 39)), (1, (35, 39)), (1, (38, 38)), (1, (40, 35)), (1, (37, 33)), (1, (36, 34)), (1, (30, 36)), (1, (32, 39)), (1, (35, 38)), (1, (38, 40)), (1, (40, 40)), (1, (36, 30)), (1, (37, 38)), (1, (34, 39)), (1, (32, 38)), (1, (39, 31)), (1, (39, 40)), (1, (34, 35)), (1, (34, 32)), (1, (37, 40))]\n",
      "\n",
      "\n",
      "\n",
      "Previous configuration [(-7.777777777777778, -7.555555555555555), (-3.3333333333333335, -5.222222222222222), (25.743589743589745, 25.564102564102566)]\n",
      "Next configuration [(-7.5, -7.6), (-1.5555555555555556, -3.2222222222222223), (26.13157894736842, 25.973684210526315)]\n",
      "[(0, (-9, -8)), (1, (-3, -2)), (0, (-5, -9)), (1, (-2, -2)), (1, (-4, -6)), (1, (-2, -6)), (1, (-3, -10)), (0, (-8, -5)), (0, (-9, -7)), (0, (-6, -6)), (0, (-8, -8)), (1, (-4, -4)), (0, (-5, -8)), (1, (-3, -4)), (0, (-8, -9)), (1, (-4, -5)), (0, (-10, -8)), (0, (-7, -8)), (2, (12, 10)), (2, (14, 19)), (2, (19, 12)), (2, (19, 18)), (2, (13, 11)), (2, (20, 13)), (2, (20, 10)), (2, (12, 12)), (1, (11, 10)), (2, (11, 16)), (2, (13, 10)), (2, (15, 16)), (2, (15, 19)), (2, (20, 18)), (2, (14, 11)), (2, (19, 16)), (2, (11, 12)), (2, (15, 12)), (2, (15, 18)), (2, (33, 39)), (2, (35, 39)), (2, (38, 38)), (2, (40, 35)), (2, (37, 33)), (2, (36, 34)), (2, (30, 36)), (2, (32, 39)), (2, (35, 38)), (2, (38, 40)), (2, (40, 40)), (2, (36, 30)), (2, (37, 38)), (2, (34, 39)), (2, (32, 38)), (2, (39, 31)), (2, (39, 40)), (2, (34, 35)), (2, (34, 32)), (2, (37, 40))]\n",
      "\n",
      "\n",
      "\n",
      "Previous configuration [(-7.5, -7.6), (-1.5555555555555556, -3.2222222222222223), (26.13157894736842, 25.973684210526315)]\n",
      "Next configuration [(-7.090909090909091, -7.818181818181818), (2.272727272727273, 1.1818181818181819), (27.34285714285714, 27.285714285714285)]\n",
      "[(0, (-9, -8)), (1, (-3, -2)), (0, (-5, -9)), (1, (-2, -2)), (1, (-4, -6)), (1, (-2, -6)), (0, (-3, -10)), (0, (-8, -5)), (0, (-9, -7)), (0, (-6, -6)), (0, (-8, -8)), (1, (-4, -4)), (0, (-5, -8)), (1, (-3, -4)), (0, (-8, -9)), (1, (-4, -5)), (0, (-10, -8)), (0, (-7, -8)), (1, (12, 10)), (2, (14, 19)), (2, (19, 12)), (2, (19, 18)), (2, (13, 11)), (2, (20, 13)), (2, (20, 10)), (2, (12, 12)), (1, (11, 10)), (2, (11, 16)), (1, (13, 10)), (2, (15, 16)), (2, (15, 19)), (2, (20, 18)), (2, (14, 11)), (2, (19, 16)), (1, (11, 12)), (2, (15, 12)), (2, (15, 18)), (2, (33, 39)), (2, (35, 39)), (2, (38, 38)), (2, (40, 35)), (2, (37, 33)), (2, (36, 34)), (2, (30, 36)), (2, (32, 39)), (2, (35, 38)), (2, (38, 40)), (2, (40, 40)), (2, (36, 30)), (2, (37, 38)), (2, (34, 39)), (2, (32, 38)), (2, (39, 31)), (2, (39, 40)), (2, (34, 35)), (2, (34, 32)), (2, (37, 40))]\n",
      "\n",
      "\n",
      "\n",
      "Previous configuration [(-7.090909090909091, -7.818181818181818), (2.272727272727273, 1.1818181818181819), (27.34285714285714, 27.285714285714285)]\n",
      "Next configuration [(-5.9375, -6.9375), (9.727272727272727, 9.090909090909092), (29.733333333333334, 29.766666666666666)]\n",
      "[(0, (-9, -8)), (1, (-3, -2)), (0, (-5, -9)), (1, (-2, -2)), (0, (-4, -6)), (0, (-2, -6)), (0, (-3, -10)), (0, (-8, -5)), (0, (-9, -7)), (0, (-6, -6)), (0, (-8, -8)), (0, (-4, -4)), (0, (-5, -8)), (0, (-3, -4)), (0, (-8, -9)), (0, (-4, -5)), (0, (-10, -8)), (0, (-7, -8)), (1, (12, 10)), (2, (14, 19)), (2, (19, 12)), (2, (19, 18)), (1, (13, 11)), (2, (20, 13)), (2, (20, 10)), (1, (12, 12)), (1, (11, 10)), (1, (11, 16)), (1, (13, 10)), (2, (15, 16)), (2, (15, 19)), (2, (20, 18)), (1, (14, 11)), (2, (19, 16)), (1, (11, 12)), (1, (15, 12)), (2, (15, 18)), (2, (33, 39)), (2, (35, 39)), (2, (38, 38)), (2, (40, 35)), (2, (37, 33)), (2, (36, 34)), (2, (30, 36)), (2, (32, 39)), (2, (35, 38)), (2, (38, 40)), (2, (40, 40)), (2, (36, 30)), (2, (37, 38)), (2, (34, 39)), (2, (32, 38)), (2, (39, 31)), (2, (39, 40)), (2, (34, 35)), (2, (34, 32)), (2, (37, 40))]\n",
      "\n",
      "\n",
      "\n",
      "Previous configuration [(-5.9375, -6.9375), (9.727272727272727, 9.090909090909092), (29.733333333333334, 29.766666666666666)]\n",
      "Next configuration [(-5.555555555555555, -6.388888888888889), (15.157894736842104, 13.842105263157896), (35.8, 36.7)]\n",
      "[(0, (-9, -8)), (0, (-3, -2)), (0, (-5, -9)), (0, (-2, -2)), (0, (-4, -6)), (0, (-2, -6)), (0, (-3, -10)), (0, (-8, -5)), (0, (-9, -7)), (0, (-6, -6)), (0, (-8, -8)), (0, (-4, -4)), (0, (-5, -8)), (0, (-3, -4)), (0, (-8, -9)), (0, (-4, -5)), (0, (-10, -8)), (0, (-7, -8)), (1, (12, 10)), (1, (14, 19)), (1, (19, 12)), (1, (19, 18)), (1, (13, 11)), (1, (20, 13)), (1, (20, 10)), (1, (12, 12)), (1, (11, 10)), (1, (11, 16)), (1, (13, 10)), (1, (15, 16)), (1, (15, 19)), (1, (20, 18)), (1, (14, 11)), (1, (19, 16)), (1, (11, 12)), (1, (15, 12)), (1, (15, 18)), (2, (33, 39)), (2, (35, 39)), (2, (38, 38)), (2, (40, 35)), (2, (37, 33)), (2, (36, 34)), (2, (30, 36)), (2, (32, 39)), (2, (35, 38)), (2, (38, 40)), (2, (40, 40)), (2, (36, 30)), (2, (37, 38)), (2, (34, 39)), (2, (32, 38)), (2, (39, 31)), (2, (39, 40)), (2, (34, 35)), (2, (34, 32)), (2, (37, 40))]\n",
      "\n",
      "\n",
      "\n",
      "Previous configuration [(-5.555555555555555, -6.388888888888889), (15.157894736842104, 13.842105263157896), (35.8, 36.7)]\n",
      "Next configuration [(-5.555555555555555, -6.388888888888889), (15.157894736842104, 13.842105263157896), (35.8, 36.7)]\n",
      "[(0, (-9, -8)), (0, (-3, -2)), (0, (-5, -9)), (0, (-2, -2)), (0, (-4, -6)), (0, (-2, -6)), (0, (-3, -10)), (0, (-8, -5)), (0, (-9, -7)), (0, (-6, -6)), (0, (-8, -8)), (0, (-4, -4)), (0, (-5, -8)), (0, (-3, -4)), (0, (-8, -9)), (0, (-4, -5)), (0, (-10, -8)), (0, (-7, -8)), (1, (12, 10)), (1, (14, 19)), (1, (19, 12)), (1, (19, 18)), (1, (13, 11)), (1, (20, 13)), (1, (20, 10)), (1, (12, 12)), (1, (11, 10)), (1, (11, 16)), (1, (13, 10)), (1, (15, 16)), (1, (15, 19)), (1, (20, 18)), (1, (14, 11)), (1, (19, 16)), (1, (11, 12)), (1, (15, 12)), (1, (15, 18)), (2, (33, 39)), (2, (35, 39)), (2, (38, 38)), (2, (40, 35)), (2, (37, 33)), (2, (36, 34)), (2, (30, 36)), (2, (32, 39)), (2, (35, 38)), (2, (38, 40)), (2, (40, 40)), (2, (36, 30)), (2, (37, 38)), (2, (34, 39)), (2, (32, 38)), (2, (39, 31)), (2, (39, 40)), (2, (34, 35)), (2, (34, 32)), (2, (37, 40))]\n",
      "\n",
      "\n",
      "\n",
      "   x  y  cluster_index\n",
      "0 -9 -8              0\n",
      "1 -3 -2              0\n",
      "2 -5 -9              0\n",
      "3 -2 -2              0\n",
      "4 -4 -6              0\n",
      "\n",
      "\n",
      "\n"
     ]
    },
    {
     "data": {
      "image/png": "[encoded data removed]",
      "text/plain": [
       "<Figure size 432x288 with 1 Axes>"
      ]
     },
     "metadata": {
      "needs_background": "light"
     },
     "output_type": "display_data"
    }
   ],
   "source": [
    "run_unoptimized_kmeans('./k-means_data/data20.csv', k=3, verbose=True)"
   ]
  },
  {
   "cell_type": "code",
   "execution_count": 38,
   "metadata": {
    "scrolled": false
   },
   "outputs": [
    {
     "name": "stdout",
     "output_type": "stream",
     "text": [
      "Previous configuration [(-3, -10), (-9, -7), (11, 10)]\n",
      "Next configuration [(-7.2, -6.5), (-3.5, -6.25), (25.743589743589745, 25.564102564102566)]\n",
      "[(1, (-9, -8)), (1, (-3, -2)), (0, (-5, -9)), (0, (-2, -2)), (0, (-4, -6)), (0, (-2, -6)), (0, (-3, -10)), (1, (-8, -5)), (1, (-9, -7)), (1, (-6, -6)), (1, (-8, -8)), (1, (-4, -4)), (0, (-5, -8)), (0, (-3, -4)), (1, (-8, -9)), (0, (-4, -5)), (1, (-10, -8)), (1, (-7, -8)), (2, (12, 10)), (2, (14, 19)), (2, (19, 12)), (2, (19, 18)), (2, (13, 11)), (2, (20, 13)), (2, (20, 10)), (2, (12, 12)), (2, (11, 10)), (2, (11, 16)), (2, (13, 10)), (2, (15, 16)), (2, (15, 19)), (2, (20, 18)), (2, (14, 11)), (2, (19, 16)), (2, (11, 12)), (2, (15, 12)), (2, (15, 18)), (2, (33, 39)), (2, (35, 39)), (2, (38, 38)), (2, (40, 35)), (2, (37, 33)), (2, (36, 34)), (2, (30, 36)), (2, (32, 39)), (2, (35, 38)), (2, (38, 40)), (2, (40, 40)), (2, (36, 30)), (2, (37, 38)), (2, (34, 39)), (2, (32, 38)), (2, (39, 31)), (2, (39, 40)), (2, (34, 35)), (2, (34, 32)), (2, (37, 40))]\n",
      "\n",
      "\n",
      "\n",
      "Previous configuration [(-7.2, -6.5), (-3.5, -6.25), (25.743589743589745, 25.564102564102566)]\n",
      "Next configuration [(-8.125, -7.375), (-3.5, -5.6), (25.743589743589745, 25.564102564102566)]\n",
      "[(0, (-9, -8)), (1, (-3, -2)), (1, (-5, -9)), (1, (-2, -2)), (1, (-4, -6)), (1, (-2, -6)), (1, (-3, -10)), (0, (-8, -5)), (0, (-9, -7)), (0, (-6, -6)), (0, (-8, -8)), (1, (-4, -4)), (1, (-5, -8)), (1, (-3, -4)), (0, (-8, -9)), (1, (-4, -5)), (0, (-10, -8)), (0, (-7, -8)), (2, (12, 10)), (2, (14, 19)), (2, (19, 12)), (2, (19, 18)), (2, (13, 11)), (2, (20, 13)), (2, (20, 10)), (2, (12, 12)), (2, (11, 10)), (2, (11, 16)), (2, (13, 10)), (2, (15, 16)), (2, (15, 19)), (2, (20, 18)), (2, (14, 11)), (2, (19, 16)), (2, (11, 12)), (2, (15, 12)), (2, (15, 18)), (2, (33, 39)), (2, (35, 39)), (2, (38, 38)), (2, (40, 35)), (2, (37, 33)), (2, (36, 34)), (2, (30, 36)), (2, (32, 39)), (2, (35, 38)), (2, (38, 40)), (2, (40, 40)), (2, (36, 30)), (2, (37, 38)), (2, (34, 39)), (2, (32, 38)), (2, (39, 31)), (2, (39, 40)), (2, (34, 35)), (2, (34, 32)), (2, (37, 40))]\n",
      "\n",
      "\n",
      "\n",
      "Previous configuration [(-8.125, -7.375), (-3.5, -5.6), (25.743589743589745, 25.564102564102566)]\n",
      "Next configuration [(-7.777777777777778, -7.555555555555555), (-1.9, -3.7), (26.13157894736842, 25.973684210526315)]\n",
      "[(0, (-9, -8)), (1, (-3, -2)), (0, (-5, -9)), (1, (-2, -2)), (1, (-4, -6)), (1, (-2, -6)), (1, (-3, -10)), (0, (-8, -5)), (0, (-9, -7)), (0, (-6, -6)), (0, (-8, -8)), (1, (-4, -4)), (1, (-5, -8)), (1, (-3, -4)), (0, (-8, -9)), (1, (-4, -5)), (0, (-10, -8)), (0, (-7, -8)), (2, (12, 10)), (2, (14, 19)), (2, (19, 12)), (2, (19, 18)), (2, (13, 11)), (2, (20, 13)), (2, (20, 10)), (2, (12, 12)), (1, (11, 10)), (2, (11, 16)), (2, (13, 10)), (2, (15, 16)), (2, (15, 19)), (2, (20, 18)), (2, (14, 11)), (2, (19, 16)), (2, (11, 12)), (2, (15, 12)), (2, (15, 18)), (2, (33, 39)), (2, (35, 39)), (2, (38, 38)), (2, (40, 35)), (2, (37, 33)), (2, (36, 34)), (2, (30, 36)), (2, (32, 39)), (2, (35, 38)), (2, (38, 40)), (2, (40, 40)), (2, (36, 30)), (2, (37, 38)), (2, (34, 39)), (2, (32, 38)), (2, (39, 31)), (2, (39, 40)), (2, (34, 35)), (2, (34, 32)), (2, (37, 40))]\n",
      "\n",
      "\n",
      "\n",
      "Previous configuration [(-7.777777777777778, -7.555555555555555), (-1.9, -3.7), (26.13157894736842, 25.973684210526315)]\n",
      "Next configuration [(-7.090909090909091, -7.818181818181818), (2.272727272727273, 1.1818181818181819), (27.34285714285714, 27.285714285714285)]\n",
      "[(0, (-9, -8)), (1, (-3, -2)), (0, (-5, -9)), (1, (-2, -2)), (1, (-4, -6)), (1, (-2, -6)), (0, (-3, -10)), (0, (-8, -5)), (0, (-9, -7)), (0, (-6, -6)), (0, (-8, -8)), (1, (-4, -4)), (0, (-5, -8)), (1, (-3, -4)), (0, (-8, -9)), (1, (-4, -5)), (0, (-10, -8)), (0, (-7, -8)), (1, (12, 10)), (2, (14, 19)), (2, (19, 12)), (2, (19, 18)), (2, (13, 11)), (2, (20, 13)), (2, (20, 10)), (2, (12, 12)), (1, (11, 10)), (2, (11, 16)), (1, (13, 10)), (2, (15, 16)), (2, (15, 19)), (2, (20, 18)), (2, (14, 11)), (2, (19, 16)), (1, (11, 12)), (2, (15, 12)), (2, (15, 18)), (2, (33, 39)), (2, (35, 39)), (2, (38, 38)), (2, (40, 35)), (2, (37, 33)), (2, (36, 34)), (2, (30, 36)), (2, (32, 39)), (2, (35, 38)), (2, (38, 40)), (2, (40, 40)), (2, (36, 30)), (2, (37, 38)), (2, (34, 39)), (2, (32, 38)), (2, (39, 31)), (2, (39, 40)), (2, (34, 35)), (2, (34, 32)), (2, (37, 40))]\n",
      "\n",
      "\n",
      "\n",
      "Previous configuration [(-7.090909090909091, -7.818181818181818), (2.272727272727273, 1.1818181818181819), (27.34285714285714, 27.285714285714285)]\n",
      "Next configuration [(-5.9375, -6.9375), (9.727272727272727, 9.090909090909092), (29.733333333333334, 29.766666666666666)]\n",
      "[(0, (-9, -8)), (1, (-3, -2)), (0, (-5, -9)), (1, (-2, -2)), (0, (-4, -6)), (0, (-2, -6)), (0, (-3, -10)), (0, (-8, -5)), (0, (-9, -7)), (0, (-6, -6)), (0, (-8, -8)), (0, (-4, -4)), (0, (-5, -8)), (0, (-3, -4)), (0, (-8, -9)), (0, (-4, -5)), (0, (-10, -8)), (0, (-7, -8)), (1, (12, 10)), (2, (14, 19)), (2, (19, 12)), (2, (19, 18)), (1, (13, 11)), (2, (20, 13)), (2, (20, 10)), (1, (12, 12)), (1, (11, 10)), (1, (11, 16)), (1, (13, 10)), (2, (15, 16)), (2, (15, 19)), (2, (20, 18)), (1, (14, 11)), (2, (19, 16)), (1, (11, 12)), (1, (15, 12)), (2, (15, 18)), (2, (33, 39)), (2, (35, 39)), (2, (38, 38)), (2, (40, 35)), (2, (37, 33)), (2, (36, 34)), (2, (30, 36)), (2, (32, 39)), (2, (35, 38)), (2, (38, 40)), (2, (40, 40)), (2, (36, 30)), (2, (37, 38)), (2, (34, 39)), (2, (32, 38)), (2, (39, 31)), (2, (39, 40)), (2, (34, 35)), (2, (34, 32)), (2, (37, 40))]\n",
      "\n",
      "\n",
      "\n",
      "Previous configuration [(-5.9375, -6.9375), (9.727272727272727, 9.090909090909092), (29.733333333333334, 29.766666666666666)]\n",
      "Next configuration [(-5.555555555555555, -6.388888888888889), (15.157894736842104, 13.842105263157896), (35.8, 36.7)]\n",
      "[(0, (-9, -8)), (0, (-3, -2)), (0, (-5, -9)), (0, (-2, -2)), (0, (-4, -6)), (0, (-2, -6)), (0, (-3, -10)), (0, (-8, -5)), (0, (-9, -7)), (0, (-6, -6)), (0, (-8, -8)), (0, (-4, -4)), (0, (-5, -8)), (0, (-3, -4)), (0, (-8, -9)), (0, (-4, -5)), (0, (-10, -8)), (0, (-7, -8)), (1, (12, 10)), (1, (14, 19)), (1, (19, 12)), (1, (19, 18)), (1, (13, 11)), (1, (20, 13)), (1, (20, 10)), (1, (12, 12)), (1, (11, 10)), (1, (11, 16)), (1, (13, 10)), (1, (15, 16)), (1, (15, 19)), (1, (20, 18)), (1, (14, 11)), (1, (19, 16)), (1, (11, 12)), (1, (15, 12)), (1, (15, 18)), (2, (33, 39)), (2, (35, 39)), (2, (38, 38)), (2, (40, 35)), (2, (37, 33)), (2, (36, 34)), (2, (30, 36)), (2, (32, 39)), (2, (35, 38)), (2, (38, 40)), (2, (40, 40)), (2, (36, 30)), (2, (37, 38)), (2, (34, 39)), (2, (32, 38)), (2, (39, 31)), (2, (39, 40)), (2, (34, 35)), (2, (34, 32)), (2, (37, 40))]\n",
      "\n",
      "\n",
      "\n",
      "Previous configuration [(-5.555555555555555, -6.388888888888889), (15.157894736842104, 13.842105263157896), (35.8, 36.7)]\n",
      "Next configuration [(-5.555555555555555, -6.388888888888889), (15.157894736842104, 13.842105263157896), (35.8, 36.7)]\n",
      "[(0, (-9, -8)), (0, (-3, -2)), (0, (-5, -9)), (0, (-2, -2)), (0, (-4, -6)), (0, (-2, -6)), (0, (-3, -10)), (0, (-8, -5)), (0, (-9, -7)), (0, (-6, -6)), (0, (-8, -8)), (0, (-4, -4)), (0, (-5, -8)), (0, (-3, -4)), (0, (-8, -9)), (0, (-4, -5)), (0, (-10, -8)), (0, (-7, -8)), (1, (12, 10)), (1, (14, 19)), (1, (19, 12)), (1, (19, 18)), (1, (13, 11)), (1, (20, 13)), (1, (20, 10)), (1, (12, 12)), (1, (11, 10)), (1, (11, 16)), (1, (13, 10)), (1, (15, 16)), (1, (15, 19)), (1, (20, 18)), (1, (14, 11)), (1, (19, 16)), (1, (11, 12)), (1, (15, 12)), (1, (15, 18)), (2, (33, 39)), (2, (35, 39)), (2, (38, 38)), (2, (40, 35)), (2, (37, 33)), (2, (36, 34)), (2, (30, 36)), (2, (32, 39)), (2, (35, 38)), (2, (38, 40)), (2, (40, 40)), (2, (36, 30)), (2, (37, 38)), (2, (34, 39)), (2, (32, 38)), (2, (39, 31)), (2, (39, 40)), (2, (34, 35)), (2, (34, 32)), (2, (37, 40))]\n",
      "\n",
      "\n",
      "\n",
      "   x  y  cluster_index\n",
      "0 -9 -8              0\n",
      "1 -3 -2              0\n",
      "2 -5 -9              0\n",
      "3 -2 -2              0\n",
      "4 -4 -6              0\n",
      "\n",
      "\n",
      "\n"
     ]
    },
    {
     "data": {
      "image/png": "[encoded data removed]",
      "text/plain": [
       "<Figure size 432x288 with 1 Axes>"
      ]
     },
     "metadata": {
      "needs_background": "light"
     },
     "output_type": "display_data"
    },
    {
     "data": {
      "text/plain": [
       "220.65439591148163"
      ]
     },
     "execution_count": 38,
     "metadata": {},
     "output_type": "execute_result"
    }
   ],
   "source": [
    "best_initial_clusters_indexes = run_optimized_k_means('./k-means_data/data20.csv', k=3, stopping_iterations=100)\n",
    "\n",
    "rdd = sc.textFile('./k-means_data/data20.csv')\\\n",
    "            .map(lambda x: str(x)) \\\n",
    "            .map(lambda w: w.split(',')) \\\n",
    "            .map(lambda point: (eval(point[0]), eval(point[1])))\n",
    "\n",
    "K_means(rdd, K, best_initial_clusters_indexes, verbose=True)"
   ]
  }
 ],
 "metadata": {
  "kernelspec": {
   "display_name": "Python 3",
   "language": "python",
   "name": "python3"
  },
  "language_info": {
   "codemirror_mode": {
    "name": "ipython",
    "version": 3
   },
   "file_extension": ".py",
   "mimetype": "text/x-python",
   "name": "python",
   "nbconvert_exporter": "python",
   "pygments_lexer": "ipython3",
   "version": "3.8.3"
  },
  "toc": {
   "base_numbering": 1,
   "nav_menu": {},
   "number_sections": false,
   "sideBar": true,
   "skip_h1_title": false,
   "title_cell": "Table of Contents",
   "title_sidebar": "Contents",
   "toc_cell": false,
   "toc_position": {
    "height": "calc(100% - 180px)",
    "left": "10px",
    "top": "150px",
    "width": "334.653px"
   },
   "toc_section_display": true,
   "toc_window_display": false
  }
 },
 "nbformat": 4,
 "nbformat_minor": 4
}
